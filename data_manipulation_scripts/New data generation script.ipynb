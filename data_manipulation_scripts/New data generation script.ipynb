{
 "cells": [
  {
   "cell_type": "code",
   "execution_count": 66,
   "metadata": {
    "collapsed": false
   },
   "outputs": [
    {
     "name": "stdout",
     "output_type": "stream",
     "text": [
      "Using matplotlib backend: Qt5Agg\n"
     ]
    }
   ],
   "source": [
    "%matplotlib\n",
    "import os\n",
    "\n",
    "import matplotlib.pyplot as plt\n",
    "\n",
    "import numpy as np\n",
    "from numpy.random import binomial, normal\n",
    "import pandas as pd\n",
    "from scipy import spatial\n",
    "from sklearn.decomposition import PCA\n",
    "from math import floor\n"
   ]
  },
  {
   "cell_type": "code",
   "execution_count": 67,
   "metadata": {
    "collapsed": false
   },
   "outputs": [
    {
     "data": {
      "text/plain": [
       "(200, 800)"
      ]
     },
     "execution_count": 67,
     "metadata": {},
     "output_type": "execute_result"
    }
   ],
   "source": [
    "total_number_of_samples = 1000\n",
    "proportion_test_traning = 0.20\n",
    "DISEASE = 'CDf'\n",
    "DATA_DIR = 'datasets'\n",
    "\n",
    "size_test = floor(total_number_of_samples * proportion_test_traning)\n",
    "size_training = total_number_of_samples - size_test\n",
    "(size_test, size_training)"
   ]
  },
  {
   "cell_type": "code",
   "execution_count": 68,
   "metadata": {
    "collapsed": true
   },
   "outputs": [],
   "source": [
    "def closest_sample(sample, dataset):\n",
    "    closest_index = spatial.KDTree(dataset).query(sample, k=2)[1][1]\n",
    "    return dataset[closest_index]"
   ]
  },
  {
   "cell_type": "code",
   "execution_count": 69,
   "metadata": {
    "collapsed": true
   },
   "outputs": [],
   "source": [
    "def MUNGE(dataset, size_multiplier, probability_swap, local_variance):\n",
    "    output = []\n",
    "    for _ in range(size_multiplier):\n",
    "        new_dataset = np.copy(dataset)\n",
    "        for sample in new_dataset:\n",
    "            t = closest_sample(sample, dataset)\n",
    "            for i, feature in enumerate(sample):\n",
    "                if binomial(1, probability_swap) and feature != t[i]:\n",
    "                    sd = np.abs(feature - t[i])/local_variance\n",
    "                    ea_prime = normal(feature, sd)\n",
    "                    feature = normal(ea_prime, sd)\n",
    "        output.append(new_dataset)\n",
    "    return np.row_stack(output)            "
   ]
  },
  {
   "cell_type": "code",
   "execution_count": 70,
   "metadata": {
    "collapsed": true
   },
   "outputs": [],
   "source": [
    "DISEASE_FOLDER = ''.join(['HS_', DISEASE])\n",
    "TRAINING_DATA_FILEPATH = os.path.join(DATA_DIR, 'true_data', DISEASE_FOLDER,\n",
    "                                           ''.join(['Sokol_16S_taxa_HS_', DISEASE, '_commsamp_training.txt']))\n",
    "TEST_DATA_FILEPATH = os.path.join(DATA_DIR, 'true_data', DISEASE_FOLDER,\n",
    "                                       ''.join(['Sokol_16S_taxa_HS_', DISEASE, '_commsamp_test.txt']))\n",
    "TRAINING_LABELS_FILEPATH = os.path.join(DATA_DIR, 'true_data', DISEASE_FOLDER,\n",
    "                                             ''.join(['Sokol_16S_taxa_HS_', DISEASE, '_commsamp_training_lab.txt']))\n",
    "TEST_LABELS_FILEPATH = os.path.join(DATA_DIR, 'true_data', DISEASE_FOLDER,\n",
    "                                         ''.join(['Sokol_16S_taxa_HS_', DISEASE, '_commsamp_test_lab.txt']))\n",
    "\n",
    "training_sample = pd.read_csv(TRAINING_DATA_FILEPATH, sep='\\t', header=0, index_col=0)\n",
    "training_labels = pd.read_csv(TRAINING_LABELS_FILEPATH, sep='\\t', header=None, index_col=None, dtype=np.int)\n",
    "\n",
    "test_sample = pd.read_csv(TEST_DATA_FILEPATH, sep='\\t', header=0, index_col=0)\n",
    "test_labels = pd.read_csv(TEST_LABELS_FILEPATH, sep='\\t', header=None, index_col=None, dtype=np.int)"
   ]
  },
  {
   "cell_type": "code",
   "execution_count": null,
   "metadata": {
    "collapsed": true
   },
   "outputs": [],
   "source": []
  },
  {
   "cell_type": "code",
   "execution_count": 71,
   "metadata": {
    "collapsed": true,
    "scrolled": false
   },
   "outputs": [],
   "source": [
    "training_sample['labels'] = training_labels.values\n",
    "test_sample['labels'] = test_labels.values\n",
    "samples = pd.concat([training_sample, test_sample], axis=0)\n",
    "names_features = samples.columns"
   ]
  },
  {
   "cell_type": "code",
   "execution_count": 72,
   "metadata": {
    "collapsed": true
   },
   "outputs": [],
   "source": [
    "healty = samples[(samples['labels'] == 0).values].values[:, :-1]\n",
    "sick = samples[(samples['labels'] == 1).values].values[:, :-1]"
   ]
  },
  {
   "cell_type": "code",
   "execution_count": 73,
   "metadata": {
    "collapsed": false
   },
   "outputs": [],
   "source": [
    "number_healty = healty.shape[0]\n",
    "number_sick = sick.shape[0]\n",
    "prop_healty = number_healty / (number_healty + number_sick)\n",
    "prop_sick = number_sick / (number_healty + number_sick)"
   ]
  },
  {
   "cell_type": "code",
   "execution_count": 74,
   "metadata": {
    "collapsed": false
   },
   "outputs": [],
   "source": [
    "new_healty = MUNGE(healty, 11, 0.1, 1)\n",
    "new_healty = pd.DataFrame(new_healty, columns=names_features[:-1])\n",
    "new_healty['labels'] = np.zeros(new_healty.shape[0], dtype=np.int)\n",
    "\n",
    "nb_test_healty = floor(new_healty.shape[0] * proportion_test_traning)\n",
    "nb_training_healty = new_healty.shape[0] - nb_test_healty\n",
    "\n",
    "training_healty = new_healty.sample(nb_training_healty)\n",
    "new_healty = new_healty[~new_healty.isin(training_healty).all(1)]\n",
    "test_healty = new_healty.sample(nb_test_healty)"
   ]
  },
  {
   "cell_type": "code",
   "execution_count": 75,
   "metadata": {
    "collapsed": false
   },
   "outputs": [],
   "source": [
    "new_sick = MUNGE(sick, 11, 0.1, 1)\n",
    "new_sick = pd.DataFrame(new_sick, columns=names_features[:-1])\n",
    "new_sick['labels'] = np.ones(new_sick.shape[0], dtype=np.int)\n",
    "\n",
    "nb_test_sick = floor(new_sick.shape[0] * proportion_test_traning)\n",
    "nb_training_sick = new_sick.shape[0] - nb_test_sick\n",
    "\n",
    "training_sick = new_sick.sample(nb_test_sick)\n",
    "new_sick = new_sick[~new_sick.isin(training_sick).all(1)]\n",
    "test_sick = new_sick.sample(nb_training_sick)"
   ]
  },
  {
   "cell_type": "code",
   "execution_count": 76,
   "metadata": {
    "collapsed": false
   },
   "outputs": [],
   "source": [
    "synt_training = pd.concat([training_healty, training_sick], axis=0)\n",
    "synt_test = pd.concat([test_healty, test_sick], axis=0)\n",
    "\n",
    "synt_training_sample = synt_training[synt_training.columns.values[:-1]]\n",
    "synt_training_labels = synt_training[synt_training.columns.values[-1]]\n",
    "\n",
    "synt_test_sample = synt_test[synt_test.columns.values[:-1]]\n",
    "synt_test_labels = synt_test[synt_test.columns.values[-1]]"
   ]
  },
  {
   "cell_type": "code",
   "execution_count": 77,
   "metadata": {
    "collapsed": false
   },
   "outputs": [],
   "source": [
    "synt_training_sample.to_csv('training_sample.txt', sep='\\t')\n",
    "synt_training_labels.to_csv('training_labels.txt', sep='\\t', index=None, header=None)\n",
    "synt_test_sample.to_csv('test_sample.txt', sep='\\t')\n",
    "synt_test_labels.to_csv('test_labels.txt', sep='\\t', index=None, header=None)"
   ]
  },
  {
   "cell_type": "code",
   "execution_count": 78,
   "metadata": {
    "collapsed": false
   },
   "outputs": [],
   "source": [
    "synt_samples = pd.concat([new_healty, new_sick], axis=0)"
   ]
  },
  {
   "cell_type": "code",
   "execution_count": 79,
   "metadata": {
    "collapsed": false
   },
   "outputs": [],
   "source": [
    "pca = PCA(n_components=2)\n",
    "pca.fit(synt_samples.values[:-1])\n",
    "pca_synt_health = pca.transform(new_healty[:-1])\n",
    "pca_synt_sick = pca.transform(new_sick[:-1])"
   ]
  },
  {
   "cell_type": "code",
   "execution_count": 80,
   "metadata": {
    "collapsed": false
   },
   "outputs": [
    {
     "data": {
      "text/plain": [
       "<matplotlib.collections.PathCollection at 0x7ff47a3e22e8>"
      ]
     },
     "execution_count": 80,
     "metadata": {},
     "output_type": "execute_result"
    }
   ],
   "source": [
    "fig = plt.figure(\"Generated\", figsize=(4, 3))\n",
    "plt.clf()\n",
    "plt.scatter(x=pca_synt_health[:, 0], y=pca_synt_health[:, 1], c='b', alpha=0.25)\n",
    "plt.scatter(x=pca_synt_sick[:, 0], y=pca_synt_sick[:, 1], c='r', alpha=0.25)"
   ]
  },
  {
   "cell_type": "code",
   "execution_count": 81,
   "metadata": {
    "collapsed": false
   },
   "outputs": [],
   "source": [
    "pca.fit(samples.values[:, :-1])\n",
    "pca_heathy = pca.transform(healty)\n",
    "pca_sick = pca.transform(sick)"
   ]
  },
  {
   "cell_type": "code",
   "execution_count": 82,
   "metadata": {
    "collapsed": false
   },
   "outputs": [
    {
     "data": {
      "text/plain": [
       "<matplotlib.collections.PathCollection at 0x7ff47a302518>"
      ]
     },
     "execution_count": 82,
     "metadata": {},
     "output_type": "execute_result"
    }
   ],
   "source": [
    "fig = plt.figure(\"True\", figsize=(4, 3))\n",
    "plt.clf()\n",
    "plt.scatter(x=pca_heathy[:, 0], y=pca_heathy[:, 1], c='b', alpha=0.25)\n",
    "plt.scatter(x=pca_sick[:, 0], y=pca_sick[:, 1], c='r', alpha=0.25)"
   ]
  },
  {
   "cell_type": "code",
   "execution_count": 83,
   "metadata": {
    "collapsed": false
   },
   "outputs": [],
   "source": [
    "gaus = normal(size=((2, 20000)))"
   ]
  },
  {
   "cell_type": "code",
   "execution_count": 84,
   "metadata": {
    "collapsed": false
   },
   "outputs": [
    {
     "data": {
      "text/plain": [
       "<matplotlib.collections.PathCollection at 0x7ff47bdf3dd8>"
      ]
     },
     "execution_count": 84,
     "metadata": {},
     "output_type": "execute_result"
    }
   ],
   "source": [
    "plt.scatter(x=gaus[0], y=gaus[1])"
   ]
  },
  {
   "cell_type": "code",
   "execution_count": 85,
   "metadata": {
    "collapsed": false
   },
   "outputs": [],
   "source": [
    "lol = MUNGE(gaus, 5, 0.1, 1)"
   ]
  },
  {
   "cell_type": "code",
   "execution_count": 86,
   "metadata": {
    "collapsed": false
   },
   "outputs": [
    {
     "data": {
      "text/plain": [
       "<matplotlib.collections.PathCollection at 0x7ff47a365f28>"
      ]
     },
     "execution_count": 86,
     "metadata": {},
     "output_type": "execute_result"
    }
   ],
   "source": [
    "plt.scatter(x=lol[0], y=lol[1])"
   ]
  },
  {
   "cell_type": "code",
   "execution_count": null,
   "metadata": {
    "collapsed": true
   },
   "outputs": [],
   "source": []
  },
  {
   "cell_type": "code",
   "execution_count": null,
   "metadata": {
    "collapsed": true
   },
   "outputs": [],
   "source": []
  },
  {
   "cell_type": "code",
   "execution_count": null,
   "metadata": {
    "collapsed": true
   },
   "outputs": [],
   "source": []
  }
 ],
 "metadata": {
  "kernelspec": {
   "display_name": "Python 3",
   "language": "python",
   "name": "python3"
  },
  "language_info": {
   "codemirror_mode": {
    "name": "ipython",
    "version": 3
   },
   "file_extension": ".py",
   "mimetype": "text/x-python",
   "name": "python",
   "nbconvert_exporter": "python",
   "pygments_lexer": "ipython3",
   "version": "3.6.0"
  }
 },
 "nbformat": 4,
 "nbformat_minor": 2
}
